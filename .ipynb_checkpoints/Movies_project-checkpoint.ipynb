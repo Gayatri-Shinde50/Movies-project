{
 "cells": [
  {
   "cell_type": "code",
   "execution_count": 3,
   "id": "78d0845b-b118-4d05-9930-8c81b9bd2926",
   "metadata": {},
   "outputs": [],
   "source": [
    "import numpy as np\n",
    "import pandas as pd\n",
    "import matplotlib.pyplot as plt\n",
    "import seaborn as sns\n",
    "import warnings\n",
    "warnings.filterwarnings('ignore')"
   ]
  },
  {
   "cell_type": "code",
   "execution_count": 4,
   "id": "bb7afb6e-3427-44f0-917b-afbf062583b6",
   "metadata": {},
   "outputs": [
    {
     "data": {
      "text/html": [
       "<div>\n",
       "<style scoped>\n",
       "    .dataframe tbody tr th:only-of-type {\n",
       "        vertical-align: middle;\n",
       "    }\n",
       "\n",
       "    .dataframe tbody tr th {\n",
       "        vertical-align: top;\n",
       "    }\n",
       "\n",
       "    .dataframe thead th {\n",
       "        text-align: right;\n",
       "    }\n",
       "</style>\n",
       "<table border=\"1\" class=\"dataframe\">\n",
       "  <thead>\n",
       "    <tr style=\"text-align: right;\">\n",
       "      <th></th>\n",
       "      <th>Movie_ID</th>\n",
       "      <th>Title</th>\n",
       "      <th>Year</th>\n",
       "      <th>Rating</th>\n",
       "      <th>Number_of_Ratings</th>\n",
       "    </tr>\n",
       "  </thead>\n",
       "  <tbody>\n",
       "    <tr>\n",
       "      <th>0</th>\n",
       "      <td>1</td>\n",
       "      <td>The Nightmare Before Christmas</td>\n",
       "      <td>1993</td>\n",
       "      <td>3.9</td>\n",
       "      <td>4568.0</td>\n",
       "    </tr>\n",
       "    <tr>\n",
       "      <th>1</th>\n",
       "      <td>2</td>\n",
       "      <td>The Mummy</td>\n",
       "      <td>1932</td>\n",
       "      <td>3.5</td>\n",
       "      <td>4388.0</td>\n",
       "    </tr>\n",
       "    <tr>\n",
       "      <th>2</th>\n",
       "      <td>3</td>\n",
       "      <td>Orphans of the Storm</td>\n",
       "      <td>1921</td>\n",
       "      <td>3.2</td>\n",
       "      <td>9062.0</td>\n",
       "    </tr>\n",
       "    <tr>\n",
       "      <th>3</th>\n",
       "      <td>4</td>\n",
       "      <td>The Object of Beauty</td>\n",
       "      <td>1991</td>\n",
       "      <td>2.8</td>\n",
       "      <td>6150.0</td>\n",
       "    </tr>\n",
       "    <tr>\n",
       "      <th>4</th>\n",
       "      <td>5</td>\n",
       "      <td>Night Tide</td>\n",
       "      <td>1963</td>\n",
       "      <td>2.8</td>\n",
       "      <td>5126.0</td>\n",
       "    </tr>\n",
       "  </tbody>\n",
       "</table>\n",
       "</div>"
      ],
      "text/plain": [
       "   Movie_ID                           Title  Year  Rating  Number_of_Ratings\n",
       "0         1  The Nightmare Before Christmas  1993     3.9             4568.0\n",
       "1         2                       The Mummy  1932     3.5             4388.0\n",
       "2         3            Orphans of the Storm  1921     3.2             9062.0\n",
       "3         4            The Object of Beauty  1991     2.8             6150.0\n",
       "4         5                      Night Tide  1963     2.8             5126.0"
      ]
     },
     "execution_count": 4,
     "metadata": {},
     "output_type": "execute_result"
    }
   ],
   "source": [
    "movies=pd.read_csv(\"C:\\\\Users\\\\Gayatri\\\\Documents\\\\da project\\\\Movies\\\\movie.csv\", encoding='ISO-8859-1')\n",
    "movies.head()"
   ]
  },
  {
   "cell_type": "markdown",
   "id": "0c9fc1dc-b8f1-4615-8171-238a501ebffb",
   "metadata": {},
   "source": [
    "# The number of movies released between 1950 and 1960."
   ]
  },
  {
   "cell_type": "code",
   "execution_count": 5,
   "id": "0a39c803-e002-4e58-92c2-bf2fe3a79099",
   "metadata": {},
   "outputs": [
    {
     "data": {
      "text/html": [
       "<div>\n",
       "<style scoped>\n",
       "    .dataframe tbody tr th:only-of-type {\n",
       "        vertical-align: middle;\n",
       "    }\n",
       "\n",
       "    .dataframe tbody tr th {\n",
       "        vertical-align: top;\n",
       "    }\n",
       "\n",
       "    .dataframe thead th {\n",
       "        text-align: right;\n",
       "    }\n",
       "</style>\n",
       "<table border=\"1\" class=\"dataframe\">\n",
       "  <thead>\n",
       "    <tr style=\"text-align: right;\">\n",
       "      <th></th>\n",
       "      <th>Title</th>\n",
       "      <th>Year</th>\n",
       "    </tr>\n",
       "  </thead>\n",
       "  <tbody>\n",
       "    <tr>\n",
       "      <th>93</th>\n",
       "      <td>House on Haunted Hill</td>\n",
       "      <td>1959</td>\n",
       "    </tr>\n",
       "    <tr>\n",
       "      <th>97</th>\n",
       "      <td>Godzilla: King of the Monsters</td>\n",
       "      <td>1956</td>\n",
       "    </tr>\n",
       "    <tr>\n",
       "      <th>99</th>\n",
       "      <td>High Noon</td>\n",
       "      <td>1952</td>\n",
       "    </tr>\n",
       "    <tr>\n",
       "      <th>315</th>\n",
       "      <td>Beneath the 12-Mile Reef</td>\n",
       "      <td>1953</td>\n",
       "    </tr>\n",
       "    <tr>\n",
       "      <th>401</th>\n",
       "      <td>Love Is a Many-Splendored Thing</td>\n",
       "      <td>1955</td>\n",
       "    </tr>\n",
       "    <tr>\n",
       "      <th>...</th>\n",
       "      <td>...</td>\n",
       "      <td>...</td>\n",
       "    </tr>\n",
       "    <tr>\n",
       "      <th>35627</th>\n",
       "      <td>Alfred Hitchcock Presents: Season 3: The Canar...</td>\n",
       "      <td>1957</td>\n",
       "    </tr>\n",
       "    <tr>\n",
       "      <th>35634</th>\n",
       "      <td>Alfred Hitchcock Presents: Season 3: Impromptu...</td>\n",
       "      <td>1957</td>\n",
       "    </tr>\n",
       "    <tr>\n",
       "      <th>44640</th>\n",
       "      <td>Isn't Life Wonderful!</td>\n",
       "      <td>1954</td>\n",
       "    </tr>\n",
       "    <tr>\n",
       "      <th>44722</th>\n",
       "      <td>Disney Animation Collection: Vol. 4: The Torto...</td>\n",
       "      <td>1958</td>\n",
       "    </tr>\n",
       "    <tr>\n",
       "      <th>44766</th>\n",
       "      <td>Disney Animation Collection: Vol. 2: Three Lit...</td>\n",
       "      <td>1952</td>\n",
       "    </tr>\n",
       "  </tbody>\n",
       "</table>\n",
       "<p>414 rows × 2 columns</p>\n",
       "</div>"
      ],
      "text/plain": [
       "                                                   Title  Year\n",
       "93                                 House on Haunted Hill  1959\n",
       "97                        Godzilla: King of the Monsters  1956\n",
       "99                                             High Noon  1952\n",
       "315                             Beneath the 12-Mile Reef  1953\n",
       "401                      Love Is a Many-Splendored Thing  1955\n",
       "...                                                  ...   ...\n",
       "35627  Alfred Hitchcock Presents: Season 3: The Canar...  1957\n",
       "35634  Alfred Hitchcock Presents: Season 3: Impromptu...  1957\n",
       "44640                              Isn't Life Wonderful!  1954\n",
       "44722  Disney Animation Collection: Vol. 4: The Torto...  1958\n",
       "44766  Disney Animation Collection: Vol. 2: Three Lit...  1952\n",
       "\n",
       "[414 rows x 2 columns]"
      ]
     },
     "execution_count": 5,
     "metadata": {},
     "output_type": "execute_result"
    }
   ],
   "source": [
    "movies_df=movies[(movies['Year']>1950) & (movies['Year']<1960)]\n",
    "result=movies_df[['Title','Year']]\n",
    "result"
   ]
  },
  {
   "cell_type": "markdown",
   "id": "5686b416-9bfe-4d59-99bd-729b180eadf0",
   "metadata": {},
   "source": [
    "# The number of movies having rating more than 4."
   ]
  },
  {
   "cell_type": "code",
   "execution_count": 6,
   "id": "221a8ac8-9238-432e-9cd8-1544056a053c",
   "metadata": {},
   "outputs": [
    {
     "name": "stdout",
     "output_type": "stream",
     "text": [
      "                                                 Title  Rating\n",
      "0                                         Pulp Fiction     4.1\n",
      "1                                    Life Is Beautiful     4.2\n",
      "2                               Mulan: Special Edition     4.2\n",
      "3                                         Forrest Gump     4.3\n",
      "4                                           Braveheart     4.2\n",
      "..                                                 ...     ...\n",
      "892                           Life With Boys: Season 1     4.1\n",
      "893                                          Max Steel     4.1\n",
      "894                       Lilyhammer: Season 1 (Recap)     4.2\n",
      "895                           The Short Game (Trailer)     4.1\n",
      "896  Transformers Prime Beast Hunters: Predacons Ri...     4.2\n",
      "\n",
      "[897 rows x 2 columns]\n"
     ]
    }
   ],
   "source": [
    "rating=movies[movies['Rating']>4].reset_index()\n",
    "print(rating[['Title','Rating']])"
   ]
  },
  {
   "cell_type": "markdown",
   "id": "9e732e43-9d6f-427d-8d02-2181def37e36",
   "metadata": {},
   "source": [
    "#  The movies whose rating are between 3 and 4"
   ]
  },
  {
   "cell_type": "code",
   "execution_count": 7,
   "id": "b14cbd59-65b0-4662-90ed-7b467024253d",
   "metadata": {},
   "outputs": [
    {
     "name": "stdout",
     "output_type": "stream",
     "text": [
      "                                                  Title  Rating\n",
      "0                        The Nightmare Before Christmas     3.9\n",
      "1                                             The Mummy     3.5\n",
      "2                                  Orphans of the Storm     3.2\n",
      "5                                   One Magic Christmas     3.8\n",
      "6                                      Muriel's Wedding     3.5\n",
      "...                                                 ...     ...\n",
      "49575                       Dave Foley: Relatively Well     3.2\n",
      "49579             Underground: The Julian Assange Story     3.7\n",
      "49580           Curious George: A Very Monkey Christmas     3.8\n",
      "49582  Lady Gaga &#38; The Muppets' Holiday Spectacular     3.1\n",
      "49584                                      Silver Bells     3.5\n",
      "\n",
      "[7161 rows x 2 columns]\n"
     ]
    }
   ],
   "source": [
    "rating_between_3and4=movies[(movies['Rating']>3) & (movies['Rating']<4)]\n",
    "print(rating_between_3and4[[\"Title\",\"Rating\"]])"
   ]
  },
  {
   "cell_type": "markdown",
   "id": "2911210c-36c7-4eda-8dfa-780db4cba6da",
   "metadata": {},
   "source": [
    "# The number of movies with duration more than 2 hours."
   ]
  },
  {
   "cell_type": "code",
   "execution_count": 8,
   "id": "252018c1-1eb4-4d7d-b1cc-ad41872b6a3c",
   "metadata": {},
   "outputs": [
    {
     "name": "stdout",
     "output_type": "stream",
     "text": [
      "                                                   Title  Number_of_Ratings\n",
      "2                                   Orphans of the Storm             9062.0\n",
      "12                                 The Birth of a Nation            12118.0\n",
      "13                                  The Boys from Brazil             7417.0\n",
      "20                            Born on the Fourth of July             8646.0\n",
      "21                                        Broadcast News             7940.0\n",
      "...                                                  ...                ...\n",
      "45107                                             Settai             7390.0\n",
      "46831  WWE for All Mankind: The Life &#38; Career of ...             8066.0\n",
      "46948                     Example Short XII 23976 2 Hour             7370.0\n",
      "48713     WWE: The Top 25 Rivalries in Wrestling History            10228.0\n",
      "49054                       Theeya Velai Seyyanum Kumaru             8239.0\n",
      "\n",
      "[641 rows x 2 columns]\n"
     ]
    }
   ],
   "source": [
    "duration=movies[movies['Number_of_Ratings']>7200]\n",
    "print(duration[['Title','Number_of_Ratings']])"
   ]
  },
  {
   "cell_type": "markdown",
   "id": "5f41f76a-f85c-41bd-b14c-7f5739209ed3",
   "metadata": {},
   "source": [
    "# The list of years and number of movies released each year."
   ]
  },
  {
   "cell_type": "code",
   "execution_count": 9,
   "id": "a2c91e35-88aa-49d6-8fa0-49e3973c67c6",
   "metadata": {},
   "outputs": [
    {
     "data": {
      "text/plain": [
       "Index(['Movie_ID', 'Title', 'Year', 'Rating', 'Number_of_Ratings'], dtype='object')"
      ]
     },
     "execution_count": 9,
     "metadata": {},
     "output_type": "execute_result"
    }
   ],
   "source": [
    "movies.columns"
   ]
  },
  {
   "cell_type": "code",
   "execution_count": 10,
   "id": "ec63ccdc-b397-4923-ade4-efdb0db4851e",
   "metadata": {},
   "outputs": [
    {
     "data": {
      "text/html": [
       "<div>\n",
       "<style scoped>\n",
       "    .dataframe tbody tr th:only-of-type {\n",
       "        vertical-align: middle;\n",
       "    }\n",
       "\n",
       "    .dataframe tbody tr th {\n",
       "        vertical-align: top;\n",
       "    }\n",
       "\n",
       "    .dataframe thead th {\n",
       "        text-align: right;\n",
       "    }\n",
       "</style>\n",
       "<table border=\"1\" class=\"dataframe\">\n",
       "  <thead>\n",
       "    <tr style=\"text-align: right;\">\n",
       "      <th></th>\n",
       "      <th>Year</th>\n",
       "      <th>Total movies</th>\n",
       "    </tr>\n",
       "  </thead>\n",
       "  <tbody>\n",
       "    <tr>\n",
       "      <th>0</th>\n",
       "      <td>1913</td>\n",
       "      <td>3</td>\n",
       "    </tr>\n",
       "    <tr>\n",
       "      <th>1</th>\n",
       "      <td>1914</td>\n",
       "      <td>20</td>\n",
       "    </tr>\n",
       "    <tr>\n",
       "      <th>2</th>\n",
       "      <td>1915</td>\n",
       "      <td>1</td>\n",
       "    </tr>\n",
       "    <tr>\n",
       "      <th>3</th>\n",
       "      <td>1916</td>\n",
       "      <td>1</td>\n",
       "    </tr>\n",
       "    <tr>\n",
       "      <th>4</th>\n",
       "      <td>1918</td>\n",
       "      <td>1</td>\n",
       "    </tr>\n",
       "    <tr>\n",
       "      <th>...</th>\n",
       "      <td>...</td>\n",
       "      <td>...</td>\n",
       "    </tr>\n",
       "    <tr>\n",
       "      <th>96</th>\n",
       "      <td>2010</td>\n",
       "      <td>5107</td>\n",
       "    </tr>\n",
       "    <tr>\n",
       "      <th>97</th>\n",
       "      <td>2011</td>\n",
       "      <td>5511</td>\n",
       "    </tr>\n",
       "    <tr>\n",
       "      <th>98</th>\n",
       "      <td>2012</td>\n",
       "      <td>4339</td>\n",
       "    </tr>\n",
       "    <tr>\n",
       "      <th>99</th>\n",
       "      <td>2013</td>\n",
       "      <td>981</td>\n",
       "    </tr>\n",
       "    <tr>\n",
       "      <th>100</th>\n",
       "      <td>2014</td>\n",
       "      <td>1</td>\n",
       "    </tr>\n",
       "  </tbody>\n",
       "</table>\n",
       "<p>101 rows × 2 columns</p>\n",
       "</div>"
      ],
      "text/plain": [
       "     Year  Total movies\n",
       "0    1913             3\n",
       "1    1914            20\n",
       "2    1915             1\n",
       "3    1916             1\n",
       "4    1918             1\n",
       "..    ...           ...\n",
       "96   2010          5107\n",
       "97   2011          5511\n",
       "98   2012          4339\n",
       "99   2013           981\n",
       "100  2014             1\n",
       "\n",
       "[101 rows x 2 columns]"
      ]
     },
     "execution_count": 10,
     "metadata": {},
     "output_type": "execute_result"
    }
   ],
   "source": [
    "movies_released_in_each_year=movies.groupby('Year')['Title'].size().reset_index(name='Total movies')\n",
    "movies_released_in_each_year"
   ]
  },
  {
   "cell_type": "markdown",
   "id": "f0ecc1f9-bdbd-4b9b-9471-fc7c45a793c4",
   "metadata": {},
   "source": [
    "# Total number of movies in dataset ."
   ]
  },
  {
   "cell_type": "code",
   "execution_count": 11,
   "id": "e95c82f7-8564-443b-9960-b073dc186504",
   "metadata": {},
   "outputs": [
    {
     "name": "stdout",
     "output_type": "stream",
     "text": [
      "Total movies in dataset: 49590\n"
     ]
    }
   ],
   "source": [
    "Total_movies=movies['Movie_ID'].size\n",
    "print(\"Total movies in dataset:\",Total_movies)"
   ]
  },
  {
   "cell_type": "markdown",
   "id": "6900ba41-e454-499f-8a86-1f2810827c48",
   "metadata": {},
   "source": [
    "# 10 oldest films in the collection."
   ]
  },
  {
   "cell_type": "code",
   "execution_count": 12,
   "id": "38bbfc7b-f93b-425f-a39c-e2b27143195b",
   "metadata": {},
   "outputs": [
    {
     "name": "stdout",
     "output_type": "stream",
     "text": [
      "                                               Title  Year\n",
      "0                     Fantômas II: Juve vs. Fantômas  1913\n",
      "1        Fantômas I: In the Shadow of the Guillotine  1913\n",
      "2                 Fantômas III: The Murderous Corpse  1913\n",
      "3                   Fantômas V: The False Magistrate  1914\n",
      "4                                            Cabiria  1914\n",
      "5  Charlie Chaplin Collection: Shorts: The Rink  ...  1914\n",
      "6                 Charlie Chaplin Collection: Shorts  1914\n",
      "7  Charlie Chaplin Collection: Shorts: The Count ...  1914\n",
      "8  Charlie Chaplin Collection: Shorts: The Firema...  1914\n",
      "9  Charlie Chaplin Collection: Shorts: The Tramp ...  1914\n"
     ]
    }
   ],
   "source": [
    "oldest_films=movies.sort_values(by='Year').head(10).reset_index()\n",
    "print(oldest_films[['Title','Year']])"
   ]
  },
  {
   "cell_type": "markdown",
   "id": "f7c9473d-2d19-4899-add0-1bde03b85975",
   "metadata": {},
   "source": [
    "# Total number of films released per year"
   ]
  },
  {
   "cell_type": "code",
   "execution_count": 13,
   "id": "850d02cc-1b2c-4b42-b0a3-31556008dab8",
   "metadata": {},
   "outputs": [
    {
     "data": {
      "text/html": [
       "<div>\n",
       "<style scoped>\n",
       "    .dataframe tbody tr th:only-of-type {\n",
       "        vertical-align: middle;\n",
       "    }\n",
       "\n",
       "    .dataframe tbody tr th {\n",
       "        vertical-align: top;\n",
       "    }\n",
       "\n",
       "    .dataframe thead th {\n",
       "        text-align: right;\n",
       "    }\n",
       "</style>\n",
       "<table border=\"1\" class=\"dataframe\">\n",
       "  <thead>\n",
       "    <tr style=\"text-align: right;\">\n",
       "      <th></th>\n",
       "      <th>Year</th>\n",
       "      <th>Films counts</th>\n",
       "    </tr>\n",
       "  </thead>\n",
       "  <tbody>\n",
       "    <tr>\n",
       "      <th>0</th>\n",
       "      <td>2011</td>\n",
       "      <td>5511</td>\n",
       "    </tr>\n",
       "    <tr>\n",
       "      <th>1</th>\n",
       "      <td>2010</td>\n",
       "      <td>5107</td>\n",
       "    </tr>\n",
       "    <tr>\n",
       "      <th>2</th>\n",
       "      <td>2009</td>\n",
       "      <td>4451</td>\n",
       "    </tr>\n",
       "    <tr>\n",
       "      <th>3</th>\n",
       "      <td>2012</td>\n",
       "      <td>4339</td>\n",
       "    </tr>\n",
       "    <tr>\n",
       "      <th>4</th>\n",
       "      <td>2008</td>\n",
       "      <td>3358</td>\n",
       "    </tr>\n",
       "    <tr>\n",
       "      <th>...</th>\n",
       "      <td>...</td>\n",
       "      <td>...</td>\n",
       "    </tr>\n",
       "    <tr>\n",
       "      <th>96</th>\n",
       "      <td>1921</td>\n",
       "      <td>2</td>\n",
       "    </tr>\n",
       "    <tr>\n",
       "      <th>97</th>\n",
       "      <td>1915</td>\n",
       "      <td>1</td>\n",
       "    </tr>\n",
       "    <tr>\n",
       "      <th>98</th>\n",
       "      <td>1916</td>\n",
       "      <td>1</td>\n",
       "    </tr>\n",
       "    <tr>\n",
       "      <th>99</th>\n",
       "      <td>1918</td>\n",
       "      <td>1</td>\n",
       "    </tr>\n",
       "    <tr>\n",
       "      <th>100</th>\n",
       "      <td>2014</td>\n",
       "      <td>1</td>\n",
       "    </tr>\n",
       "  </tbody>\n",
       "</table>\n",
       "<p>101 rows × 2 columns</p>\n",
       "</div>"
      ],
      "text/plain": [
       "     Year  Films counts\n",
       "0    2011          5511\n",
       "1    2010          5107\n",
       "2    2009          4451\n",
       "3    2012          4339\n",
       "4    2008          3358\n",
       "..    ...           ...\n",
       "96   1921             2\n",
       "97   1915             1\n",
       "98   1916             1\n",
       "99   1918             1\n",
       "100  2014             1\n",
       "\n",
       "[101 rows x 2 columns]"
      ]
     },
     "execution_count": 13,
     "metadata": {},
     "output_type": "execute_result"
    }
   ],
   "source": [
    "films_per_year=movies['Year'].value_counts().reset_index(name='Films counts')\n",
    "films_per_year"
   ]
  },
  {
   "cell_type": "markdown",
   "id": "e5395338-5547-4295-96c4-121950b5a31f",
   "metadata": {},
   "source": [
    "# The average rating for films grouped by decade."
   ]
  },
  {
   "cell_type": "code",
   "execution_count": 14,
   "id": "5f885143-0dd4-47be-9f9e-1c98502f5ed6",
   "metadata": {},
   "outputs": [
    {
     "data": {
      "text/html": [
       "<div>\n",
       "<style scoped>\n",
       "    .dataframe tbody tr th:only-of-type {\n",
       "        vertical-align: middle;\n",
       "    }\n",
       "\n",
       "    .dataframe tbody tr th {\n",
       "        vertical-align: top;\n",
       "    }\n",
       "\n",
       "    .dataframe thead th {\n",
       "        text-align: right;\n",
       "    }\n",
       "</style>\n",
       "<table border=\"1\" class=\"dataframe\">\n",
       "  <thead>\n",
       "    <tr style=\"text-align: right;\">\n",
       "      <th></th>\n",
       "      <th>Year</th>\n",
       "      <th>Rating</th>\n",
       "    </tr>\n",
       "  </thead>\n",
       "  <tbody>\n",
       "    <tr>\n",
       "      <th>0</th>\n",
       "      <td>1910</td>\n",
       "      <td>2.878571</td>\n",
       "    </tr>\n",
       "    <tr>\n",
       "      <th>1</th>\n",
       "      <td>1920</td>\n",
       "      <td>3.164865</td>\n",
       "    </tr>\n",
       "    <tr>\n",
       "      <th>2</th>\n",
       "      <td>1930</td>\n",
       "      <td>3.228205</td>\n",
       "    </tr>\n",
       "    <tr>\n",
       "      <th>3</th>\n",
       "      <td>1940</td>\n",
       "      <td>3.368831</td>\n",
       "    </tr>\n",
       "    <tr>\n",
       "      <th>4</th>\n",
       "      <td>1950</td>\n",
       "      <td>3.245000</td>\n",
       "    </tr>\n",
       "    <tr>\n",
       "      <th>5</th>\n",
       "      <td>1960</td>\n",
       "      <td>3.200490</td>\n",
       "    </tr>\n",
       "    <tr>\n",
       "      <th>6</th>\n",
       "      <td>1970</td>\n",
       "      <td>3.255191</td>\n",
       "    </tr>\n",
       "    <tr>\n",
       "      <th>7</th>\n",
       "      <td>1980</td>\n",
       "      <td>3.347173</td>\n",
       "    </tr>\n",
       "    <tr>\n",
       "      <th>8</th>\n",
       "      <td>1990</td>\n",
       "      <td>3.429654</td>\n",
       "    </tr>\n",
       "    <tr>\n",
       "      <th>9</th>\n",
       "      <td>2000</td>\n",
       "      <td>3.443407</td>\n",
       "    </tr>\n",
       "    <tr>\n",
       "      <th>10</th>\n",
       "      <td>2010</td>\n",
       "      <td>3.529766</td>\n",
       "    </tr>\n",
       "  </tbody>\n",
       "</table>\n",
       "</div>"
      ],
      "text/plain": [
       "    Year    Rating\n",
       "0   1910  2.878571\n",
       "1   1920  3.164865\n",
       "2   1930  3.228205\n",
       "3   1940  3.368831\n",
       "4   1950  3.245000\n",
       "5   1960  3.200490\n",
       "6   1970  3.255191\n",
       "7   1980  3.347173\n",
       "8   1990  3.429654\n",
       "9   2000  3.443407\n",
       "10  2010  3.529766"
      ]
     },
     "execution_count": 14,
     "metadata": {},
     "output_type": "execute_result"
    }
   ],
   "source": [
    "Avg_rating=movies.groupby((movies['Year']//10)*10)['Rating'].mean().reset_index()\n",
    "Avg_rating"
   ]
  },
  {
   "cell_type": "markdown",
   "id": "68ee6d9a-cef5-47dd-a069-f47711d0c542",
   "metadata": {},
   "source": [
    "# Count the number of movies within certain rating ranges."
   ]
  },
  {
   "cell_type": "code",
   "execution_count": 15,
   "id": "4f86d898-a7e9-44cb-9569-7b3a45c71f29",
   "metadata": {},
   "outputs": [
    {
     "name": "stdout",
     "output_type": "stream",
     "text": [
      "  Rating_Range  movies\n",
      "0          0-2      81\n",
      "1          2-4    9256\n",
      "2          4-5    1477\n",
      "3         5-10       0\n"
     ]
    }
   ],
   "source": [
    "bins = [0, 2, 4, 5, 10]  \n",
    "labels = ['0-2', '2-4', '4-5', '5-10']\n",
    "movies['Rating_Range'] = pd.cut(movies['Rating'], bins=bins, labels=labels, right=False)\n",
    "rating_counts = movies['Rating_Range'].value_counts().sort_index().reset_index(name='movies')\n",
    "print(rating_counts)"
   ]
  },
  {
   "cell_type": "markdown",
   "id": "f5aec133-0a78-441a-b41f-bc69604a9e90",
   "metadata": {},
   "source": [
    "# The movie having the same name but released in different years."
   ]
  },
  {
   "cell_type": "code",
   "execution_count": 16,
   "id": "01203939-45fb-4196-b0f3-2a5de61fc07d",
   "metadata": {},
   "outputs": [
    {
     "data": {
      "text/plain": [
       "Index(['Movie_ID', 'Title', 'Year', 'Rating', 'Number_of_Ratings',\n",
       "       'Rating_Range'],\n",
       "      dtype='object')"
      ]
     },
     "execution_count": 16,
     "metadata": {},
     "output_type": "execute_result"
    }
   ],
   "source": [
    "movies.columns"
   ]
  },
  {
   "cell_type": "code",
   "execution_count": 17,
   "id": "d1064669-d105-4115-a6c6-45dd07cb8470",
   "metadata": {},
   "outputs": [
    {
     "data": {
      "text/plain": [
       "<bound method Series.reset_index of Title\n",
       "Bleak House                                                    4\n",
       "Treasure Island                                                3\n",
       "Mansfield Park                                                 3\n",
       "Jane Eyre                                                      3\n",
       "Kidnapped                                                      3\n",
       "                                                              ..\n",
       "The Andy Griffith Show: Season 7: Goober Makes History         1\n",
       "The Andy Griffith Show: Season 7: The Ballgame                 1\n",
       "The Andy Griffith Show: Season 7: Aunt Bee's Crowning Glory    1\n",
       "The Andy Griffith Show: Season 7: Helen  the Authoress         1\n",
       "Kate Plus Ei8ht: Season 1                                      1\n",
       "Name: count, Length: 49143, dtype: int64>"
      ]
     },
     "execution_count": 17,
     "metadata": {},
     "output_type": "execute_result"
    }
   ],
   "source": [
    "same_name_movie=movies['Title'].value_counts().reset_index\n",
    "same_name_movie"
   ]
  },
  {
   "cell_type": "markdown",
   "id": "785f200a-cb59-45f0-be9a-2506dd09bfdf",
   "metadata": {},
   "source": [
    "# The movies that have a duration of less than one hour."
   ]
  },
  {
   "cell_type": "code",
   "execution_count": 18,
   "id": "281b5125-59eb-4a7f-a492-f6a722997df4",
   "metadata": {},
   "outputs": [
    {
     "name": "stdout",
     "output_type": "stream",
     "text": [
      "                                                   Title  Number_of_Ratings\n",
      "0                                              Elvis '56             3518.0\n",
      "1                                    Steamboat Bill  Jr.             3378.0\n",
      "2                                     Ring of Fire: IMAX             2280.0\n",
      "3                              Tropical Rainforest: IMAX             2284.0\n",
      "4                              Barney: Let's Play School             2942.0\n",
      "...                                                  ...                ...\n",
      "38072  Barbie: Life in the Dreamhouse: Barbie Life in...             1458.0\n",
      "38073            Curious George: A Very Monkey Christmas             3438.0\n",
      "38074                           Mumfie's White Christmas             1350.0\n",
      "38075   Lady Gaga &#38; The Muppets' Holiday Spectacular             3496.0\n",
      "38076                                  Winter Wonderland             1812.0\n",
      "\n",
      "[38077 rows x 2 columns]\n"
     ]
    }
   ],
   "source": [
    "one_hour_duration=movies[movies['Number_of_Ratings']<3600].reset_index()\n",
    "print(one_hour_duration[['Title','Number_of_Ratings']])"
   ]
  },
  {
   "cell_type": "markdown",
   "id": "79d6fe8b-b02e-4929-8916-d2c9bdb4f4e7",
   "metadata": {},
   "source": [
    "# The longest and shortest movies for every year."
   ]
  },
  {
   "cell_type": "code",
   "execution_count": 19,
   "id": "fa502b93-9454-4e8a-99d4-8e2d1561b5dd",
   "metadata": {
    "scrolled": true
   },
   "outputs": [
    {
     "name": "stdout",
     "output_type": "stream",
     "text": [
      "     Year                                              Title  \\\n",
      "0    1913                 Fantômas III: The Murderous Corpse   \n",
      "1    1914                                            Cabiria   \n",
      "2    1915                              The Birth of a Nation   \n",
      "3    1916                                        Intolerance   \n",
      "4    1918                           I Don't Want To Be A Man   \n",
      "..    ...                                                ...   \n",
      "97   2010               Example 8 Hour 23.976 Remote Content   \n",
      "98   2011         Ancient Astronauts: The Gods from Planet X   \n",
      "99   2012  WWE: The Best of Raw &#38; SmackDown 2012: Vol. 3   \n",
      "100  2013     WWE: The Top 25 Rivalries in Wrestling History   \n",
      "101  2014                               The Square (Trailer)   \n",
      "\n",
      "     Number_of_Ratings  \n",
      "0               5432.0  \n",
      "1               7684.0  \n",
      "2              12118.0  \n",
      "3              11873.0  \n",
      "4               2692.0  \n",
      "..                 ...  \n",
      "97             28813.0  \n",
      "98             11465.0  \n",
      "99             10664.0  \n",
      "100            10228.0  \n",
      "101              154.0  \n",
      "\n",
      "[102 rows x 3 columns]\n"
     ]
    }
   ],
   "source": [
    "max_rating=movies.groupby('Year')['Number_of_Ratings'].max().reset_index(name='Max_rating')\n",
    "longest_movie = pd.merge(max_rating, movies,left_on=['Year','Max_rating'],right_on=['Year', 'Number_of_Ratings'])\n",
    "longest_movie = longest_movie[['Year', 'Title', 'Number_of_Ratings']]\n",
    "print(longest_movie)"
   ]
  },
  {
   "cell_type": "code",
   "execution_count": 20,
   "id": "ddf2d64c-e088-459f-a036-e08e7eee65f7",
   "metadata": {},
   "outputs": [
    {
     "name": "stdout",
     "output_type": "stream",
     "text": [
      "     Year                                              Title  \\\n",
      "0    1913        Fantômas I: In the Shadow of the Guillotine   \n",
      "1    1914  Charlie Chaplin Collection: Shorts: By the Sea...   \n",
      "2    1915                              The Birth of a Nation   \n",
      "3    1916                                        Intolerance   \n",
      "4    1918                           I Don't Want To Be A Man   \n",
      "..    ...                                                ...   \n",
      "100  2010  TEDTalks: Inexplicable Connections: Derek Sive...   \n",
      "101  2011  TEDTalks: Crime &#38; Punishment: Damon Horowi...   \n",
      "102  2012                                      Trailer: Pain   \n",
      "103  2013                                   Trailer: Emperor   \n",
      "104  2014                               The Square (Trailer)   \n",
      "\n",
      "     Number_of_Ratings  \n",
      "0               3268.0  \n",
      "1               2610.0  \n",
      "2              12118.0  \n",
      "3              11873.0  \n",
      "4               2692.0  \n",
      "..                 ...  \n",
      "100              157.0  \n",
      "101              226.0  \n",
      "102               52.0  \n",
      "103               67.0  \n",
      "104              154.0  \n",
      "\n",
      "[105 rows x 3 columns]\n"
     ]
    }
   ],
   "source": [
    "min_rating=movies.groupby('Year')['Number_of_Ratings'].min().reset_index(name='Min_rating')\n",
    "shortest_movie = pd.merge(min_rating, movies,left_on=['Year','Min_rating'],right_on=['Year', 'Number_of_Ratings'])\n",
    "shortest_movie = shortest_movie[['Year', 'Title', 'Number_of_Ratings']]\n",
    "print(shortest_movie)"
   ]
  },
  {
   "cell_type": "markdown",
   "id": "32d93607-1346-44c6-9381-1ec73e784f59",
   "metadata": {},
   "source": [
    "# The years that had the highest number of movies with ratings of 4 or higher."
   ]
  },
  {
   "cell_type": "code",
   "execution_count": 21,
   "id": "89a80190-c7dd-4054-8564-c13a01ee5f12",
   "metadata": {},
   "outputs": [
    {
     "data": {
      "text/html": [
       "<div>\n",
       "<style scoped>\n",
       "    .dataframe tbody tr th:only-of-type {\n",
       "        vertical-align: middle;\n",
       "    }\n",
       "\n",
       "    .dataframe tbody tr th {\n",
       "        vertical-align: top;\n",
       "    }\n",
       "\n",
       "    .dataframe thead th {\n",
       "        text-align: right;\n",
       "    }\n",
       "</style>\n",
       "<table border=\"1\" class=\"dataframe\">\n",
       "  <thead>\n",
       "    <tr style=\"text-align: right;\">\n",
       "      <th></th>\n",
       "      <th>Year</th>\n",
       "      <th>Count</th>\n",
       "    </tr>\n",
       "  </thead>\n",
       "  <tbody>\n",
       "    <tr>\n",
       "      <th>0</th>\n",
       "      <td>1944</td>\n",
       "      <td>1</td>\n",
       "    </tr>\n",
       "    <tr>\n",
       "      <th>1</th>\n",
       "      <td>1951</td>\n",
       "      <td>2</td>\n",
       "    </tr>\n",
       "    <tr>\n",
       "      <th>2</th>\n",
       "      <td>1953</td>\n",
       "      <td>2</td>\n",
       "    </tr>\n",
       "    <tr>\n",
       "      <th>3</th>\n",
       "      <td>1954</td>\n",
       "      <td>1</td>\n",
       "    </tr>\n",
       "    <tr>\n",
       "      <th>4</th>\n",
       "      <td>1956</td>\n",
       "      <td>1</td>\n",
       "    </tr>\n",
       "    <tr>\n",
       "      <th>5</th>\n",
       "      <td>1957</td>\n",
       "      <td>1</td>\n",
       "    </tr>\n",
       "    <tr>\n",
       "      <th>6</th>\n",
       "      <td>1958</td>\n",
       "      <td>1</td>\n",
       "    </tr>\n",
       "    <tr>\n",
       "      <th>7</th>\n",
       "      <td>1959</td>\n",
       "      <td>1</td>\n",
       "    </tr>\n",
       "    <tr>\n",
       "      <th>8</th>\n",
       "      <td>1960</td>\n",
       "      <td>2</td>\n",
       "    </tr>\n",
       "    <tr>\n",
       "      <th>9</th>\n",
       "      <td>1961</td>\n",
       "      <td>1</td>\n",
       "    </tr>\n",
       "    <tr>\n",
       "      <th>10</th>\n",
       "      <td>1962</td>\n",
       "      <td>2</td>\n",
       "    </tr>\n",
       "    <tr>\n",
       "      <th>11</th>\n",
       "      <td>1963</td>\n",
       "      <td>4</td>\n",
       "    </tr>\n",
       "    <tr>\n",
       "      <th>12</th>\n",
       "      <td>1964</td>\n",
       "      <td>3</td>\n",
       "    </tr>\n",
       "    <tr>\n",
       "      <th>13</th>\n",
       "      <td>1965</td>\n",
       "      <td>1</td>\n",
       "    </tr>\n",
       "    <tr>\n",
       "      <th>14</th>\n",
       "      <td>1966</td>\n",
       "      <td>1</td>\n",
       "    </tr>\n",
       "    <tr>\n",
       "      <th>15</th>\n",
       "      <td>1967</td>\n",
       "      <td>1</td>\n",
       "    </tr>\n",
       "    <tr>\n",
       "      <th>16</th>\n",
       "      <td>1968</td>\n",
       "      <td>1</td>\n",
       "    </tr>\n",
       "    <tr>\n",
       "      <th>17</th>\n",
       "      <td>1969</td>\n",
       "      <td>1</td>\n",
       "    </tr>\n",
       "    <tr>\n",
       "      <th>18</th>\n",
       "      <td>1970</td>\n",
       "      <td>2</td>\n",
       "    </tr>\n",
       "    <tr>\n",
       "      <th>19</th>\n",
       "      <td>1971</td>\n",
       "      <td>1</td>\n",
       "    </tr>\n",
       "    <tr>\n",
       "      <th>20</th>\n",
       "      <td>1972</td>\n",
       "      <td>1</td>\n",
       "    </tr>\n",
       "    <tr>\n",
       "      <th>21</th>\n",
       "      <td>1973</td>\n",
       "      <td>3</td>\n",
       "    </tr>\n",
       "    <tr>\n",
       "      <th>22</th>\n",
       "      <td>1975</td>\n",
       "      <td>2</td>\n",
       "    </tr>\n",
       "    <tr>\n",
       "      <th>23</th>\n",
       "      <td>1977</td>\n",
       "      <td>2</td>\n",
       "    </tr>\n",
       "    <tr>\n",
       "      <th>24</th>\n",
       "      <td>1978</td>\n",
       "      <td>5</td>\n",
       "    </tr>\n",
       "    <tr>\n",
       "      <th>25</th>\n",
       "      <td>1979</td>\n",
       "      <td>2</td>\n",
       "    </tr>\n",
       "    <tr>\n",
       "      <th>26</th>\n",
       "      <td>1980</td>\n",
       "      <td>1</td>\n",
       "    </tr>\n",
       "    <tr>\n",
       "      <th>27</th>\n",
       "      <td>1982</td>\n",
       "      <td>2</td>\n",
       "    </tr>\n",
       "    <tr>\n",
       "      <th>28</th>\n",
       "      <td>1983</td>\n",
       "      <td>2</td>\n",
       "    </tr>\n",
       "    <tr>\n",
       "      <th>29</th>\n",
       "      <td>1984</td>\n",
       "      <td>1</td>\n",
       "    </tr>\n",
       "    <tr>\n",
       "      <th>30</th>\n",
       "      <td>1985</td>\n",
       "      <td>2</td>\n",
       "    </tr>\n",
       "    <tr>\n",
       "      <th>31</th>\n",
       "      <td>1986</td>\n",
       "      <td>2</td>\n",
       "    </tr>\n",
       "    <tr>\n",
       "      <th>32</th>\n",
       "      <td>1987</td>\n",
       "      <td>5</td>\n",
       "    </tr>\n",
       "    <tr>\n",
       "      <th>33</th>\n",
       "      <td>1988</td>\n",
       "      <td>7</td>\n",
       "    </tr>\n",
       "    <tr>\n",
       "      <th>34</th>\n",
       "      <td>1989</td>\n",
       "      <td>9</td>\n",
       "    </tr>\n",
       "    <tr>\n",
       "      <th>35</th>\n",
       "      <td>1990</td>\n",
       "      <td>16</td>\n",
       "    </tr>\n",
       "    <tr>\n",
       "      <th>36</th>\n",
       "      <td>1991</td>\n",
       "      <td>3</td>\n",
       "    </tr>\n",
       "    <tr>\n",
       "      <th>37</th>\n",
       "      <td>1992</td>\n",
       "      <td>9</td>\n",
       "    </tr>\n",
       "    <tr>\n",
       "      <th>38</th>\n",
       "      <td>1993</td>\n",
       "      <td>6</td>\n",
       "    </tr>\n",
       "    <tr>\n",
       "      <th>39</th>\n",
       "      <td>1994</td>\n",
       "      <td>7</td>\n",
       "    </tr>\n",
       "    <tr>\n",
       "      <th>40</th>\n",
       "      <td>1995</td>\n",
       "      <td>8</td>\n",
       "    </tr>\n",
       "    <tr>\n",
       "      <th>41</th>\n",
       "      <td>1996</td>\n",
       "      <td>10</td>\n",
       "    </tr>\n",
       "    <tr>\n",
       "      <th>42</th>\n",
       "      <td>1997</td>\n",
       "      <td>10</td>\n",
       "    </tr>\n",
       "    <tr>\n",
       "      <th>43</th>\n",
       "      <td>1998</td>\n",
       "      <td>11</td>\n",
       "    </tr>\n",
       "    <tr>\n",
       "      <th>44</th>\n",
       "      <td>1999</td>\n",
       "      <td>25</td>\n",
       "    </tr>\n",
       "    <tr>\n",
       "      <th>45</th>\n",
       "      <td>2000</td>\n",
       "      <td>13</td>\n",
       "    </tr>\n",
       "    <tr>\n",
       "      <th>46</th>\n",
       "      <td>2001</td>\n",
       "      <td>22</td>\n",
       "    </tr>\n",
       "    <tr>\n",
       "      <th>47</th>\n",
       "      <td>2002</td>\n",
       "      <td>20</td>\n",
       "    </tr>\n",
       "    <tr>\n",
       "      <th>48</th>\n",
       "      <td>2003</td>\n",
       "      <td>24</td>\n",
       "    </tr>\n",
       "    <tr>\n",
       "      <th>49</th>\n",
       "      <td>2004</td>\n",
       "      <td>29</td>\n",
       "    </tr>\n",
       "    <tr>\n",
       "      <th>50</th>\n",
       "      <td>2005</td>\n",
       "      <td>47</td>\n",
       "    </tr>\n",
       "    <tr>\n",
       "      <th>51</th>\n",
       "      <td>2006</td>\n",
       "      <td>62</td>\n",
       "    </tr>\n",
       "    <tr>\n",
       "      <th>52</th>\n",
       "      <td>2007</td>\n",
       "      <td>85</td>\n",
       "    </tr>\n",
       "    <tr>\n",
       "      <th>53</th>\n",
       "      <td>2008</td>\n",
       "      <td>92</td>\n",
       "    </tr>\n",
       "    <tr>\n",
       "      <th>54</th>\n",
       "      <td>2009</td>\n",
       "      <td>129</td>\n",
       "    </tr>\n",
       "    <tr>\n",
       "      <th>55</th>\n",
       "      <td>2010</td>\n",
       "      <td>202</td>\n",
       "    </tr>\n",
       "    <tr>\n",
       "      <th>56</th>\n",
       "      <td>2011</td>\n",
       "      <td>253</td>\n",
       "    </tr>\n",
       "    <tr>\n",
       "      <th>57</th>\n",
       "      <td>2012</td>\n",
       "      <td>252</td>\n",
       "    </tr>\n",
       "    <tr>\n",
       "      <th>58</th>\n",
       "      <td>2013</td>\n",
       "      <td>66</td>\n",
       "    </tr>\n",
       "  </tbody>\n",
       "</table>\n",
       "</div>"
      ],
      "text/plain": [
       "    Year  Count\n",
       "0   1944      1\n",
       "1   1951      2\n",
       "2   1953      2\n",
       "3   1954      1\n",
       "4   1956      1\n",
       "5   1957      1\n",
       "6   1958      1\n",
       "7   1959      1\n",
       "8   1960      2\n",
       "9   1961      1\n",
       "10  1962      2\n",
       "11  1963      4\n",
       "12  1964      3\n",
       "13  1965      1\n",
       "14  1966      1\n",
       "15  1967      1\n",
       "16  1968      1\n",
       "17  1969      1\n",
       "18  1970      2\n",
       "19  1971      1\n",
       "20  1972      1\n",
       "21  1973      3\n",
       "22  1975      2\n",
       "23  1977      2\n",
       "24  1978      5\n",
       "25  1979      2\n",
       "26  1980      1\n",
       "27  1982      2\n",
       "28  1983      2\n",
       "29  1984      1\n",
       "30  1985      2\n",
       "31  1986      2\n",
       "32  1987      5\n",
       "33  1988      7\n",
       "34  1989      9\n",
       "35  1990     16\n",
       "36  1991      3\n",
       "37  1992      9\n",
       "38  1993      6\n",
       "39  1994      7\n",
       "40  1995      8\n",
       "41  1996     10\n",
       "42  1997     10\n",
       "43  1998     11\n",
       "44  1999     25\n",
       "45  2000     13\n",
       "46  2001     22\n",
       "47  2002     20\n",
       "48  2003     24\n",
       "49  2004     29\n",
       "50  2005     47\n",
       "51  2006     62\n",
       "52  2007     85\n",
       "53  2008     92\n",
       "54  2009    129\n",
       "55  2010    202\n",
       "56  2011    253\n",
       "57  2012    252\n",
       "58  2013     66"
      ]
     },
     "execution_count": 21,
     "metadata": {},
     "output_type": "execute_result"
    }
   ],
   "source": [
    "High_rating=movies[movies['Rating']>=4]\n",
    "movies_df=High_rating.groupby('Year').size().reset_index(name='Count')\n",
    "movies_df"
   ]
  },
  {
   "cell_type": "code",
   "execution_count": 22,
   "id": "8a012df4-395a-4758-9cb1-95912549e2c7",
   "metadata": {},
   "outputs": [
    {
     "data": {
      "text/plain": [
       "Index(['Movie_ID', 'Title', 'Year', 'Rating', 'Number_of_Ratings',\n",
       "       'Rating_Range'],\n",
       "      dtype='object')"
      ]
     },
     "execution_count": 22,
     "metadata": {},
     "output_type": "execute_result"
    }
   ],
   "source": [
    "movies.columns"
   ]
  },
  {
   "cell_type": "code",
   "execution_count": 23,
   "id": "0870708e-e953-4684-ba09-a2f3af4247b4",
   "metadata": {},
   "outputs": [
    {
     "name": "stdout",
     "output_type": "stream",
     "text": [
      "Requirement already satisfied: mysql-connector-python in c:\\users\\gayatri\\anaconda3\\lib\\site-packages (9.0.0)\n",
      "Requirement already satisfied: pandas in c:\\users\\gayatri\\anaconda3\\lib\\site-packages (2.1.4)\n",
      "Requirement already satisfied: numpy<2,>=1.23.2 in c:\\users\\gayatri\\anaconda3\\lib\\site-packages (from pandas) (1.26.4)\n",
      "Requirement already satisfied: python-dateutil>=2.8.2 in c:\\users\\gayatri\\anaconda3\\lib\\site-packages (from pandas) (2.8.2)\n",
      "Requirement already satisfied: pytz>=2020.1 in c:\\users\\gayatri\\anaconda3\\lib\\site-packages (from pandas) (2023.3.post1)\n",
      "Requirement already satisfied: tzdata>=2022.1 in c:\\users\\gayatri\\anaconda3\\lib\\site-packages (from pandas) (2023.3)\n",
      "Requirement already satisfied: six>=1.5 in c:\\users\\gayatri\\anaconda3\\lib\\site-packages (from python-dateutil>=2.8.2->pandas) (1.16.0)\n",
      "Note: you may need to restart the kernel to use updated packages.\n"
     ]
    }
   ],
   "source": [
    "pip install mysql-connector-python pandas"
   ]
  },
  {
   "cell_type": "code",
   "execution_count": 28,
   "id": "9dabc583-2244-438d-972e-76cc2da7bbd2",
   "metadata": {},
   "outputs": [],
   "source": [
    "import mysql.connector\n",
    "from sqlalchemy import create_engine\n",
    "db_config = {\n",
    "    'user': 'root',\n",
    "    'password': 'pass123',\n",
    "    'host': 'localhost',\n",
    "}\n",
    "conn = mysql.connector.connect(**db_config)\n",
    "cursor = conn.cursor()\n",
    "cursor.execute(\"CREATE DATABASE IF NOT EXISTS movie\")\n",
    "cursor.close()\n",
    "conn.close()"
   ]
  },
  {
   "cell_type": "code",
   "execution_count": 29,
   "id": "42258871-d76c-425f-b3db-6876dd7f0bb4",
   "metadata": {},
   "outputs": [
    {
     "ename": "ProgrammingError",
     "evalue": "1064 (42000): You have an error in your SQL syntax; check the manual that corresponds to your MySQL server version for the right syntax to use near ')' at line 8",
     "output_type": "error",
     "traceback": [
      "\u001b[1;31m---------------------------------------------------------------------------\u001b[0m",
      "\u001b[1;31mMySQLInterfaceError\u001b[0m                       Traceback (most recent call last)",
      "File \u001b[1;32m~\\anaconda3\\Lib\\site-packages\\mysql\\connector\\connection_cext.py:705\u001b[0m, in \u001b[0;36mCMySQLConnection.cmd_query\u001b[1;34m(self, query, raw, buffered, raw_as_string)\u001b[0m\n\u001b[0;32m    704\u001b[0m         query \u001b[38;5;241m=\u001b[39m query\u001b[38;5;241m.\u001b[39mencode(\u001b[38;5;124m\"\u001b[39m\u001b[38;5;124mutf-8\u001b[39m\u001b[38;5;124m\"\u001b[39m)\n\u001b[1;32m--> 705\u001b[0m     \u001b[38;5;28mself\u001b[39m\u001b[38;5;241m.\u001b[39m_cmysql\u001b[38;5;241m.\u001b[39mquery(\n\u001b[0;32m    706\u001b[0m         query,\n\u001b[0;32m    707\u001b[0m         raw\u001b[38;5;241m=\u001b[39mraw,\n\u001b[0;32m    708\u001b[0m         buffered\u001b[38;5;241m=\u001b[39mbuffered,\n\u001b[0;32m    709\u001b[0m         raw_as_string\u001b[38;5;241m=\u001b[39mraw_as_string,\n\u001b[0;32m    710\u001b[0m         query_attrs\u001b[38;5;241m=\u001b[39m\u001b[38;5;28mself\u001b[39m\u001b[38;5;241m.\u001b[39mquery_attrs,\n\u001b[0;32m    711\u001b[0m     )\n\u001b[0;32m    712\u001b[0m \u001b[38;5;28;01mexcept\u001b[39;00m MySQLInterfaceError \u001b[38;5;28;01mas\u001b[39;00m err:\n",
      "\u001b[1;31mMySQLInterfaceError\u001b[0m: You have an error in your SQL syntax; check the manual that corresponds to your MySQL server version for the right syntax to use near ')' at line 8",
      "\nThe above exception was the direct cause of the following exception:\n",
      "\u001b[1;31mProgrammingError\u001b[0m                          Traceback (most recent call last)",
      "Cell \u001b[1;32mIn[29], line 14\u001b[0m\n\u001b[0;32m      3\u001b[0m cursor \u001b[38;5;241m=\u001b[39m conn\u001b[38;5;241m.\u001b[39mcursor()\n\u001b[0;32m      4\u001b[0m query \u001b[38;5;241m=\u001b[39m \u001b[38;5;124m\"\"\"\u001b[39m\n\u001b[0;32m      5\u001b[0m \u001b[38;5;124mCREATE TABLE IF NOT EXISTS movie (\u001b[39m\n\u001b[0;32m      6\u001b[0m \u001b[38;5;124m    id INT AUTO_INCREMENT PRIMARY KEY,\u001b[39m\n\u001b[1;32m   (...)\u001b[0m\n\u001b[0;32m     12\u001b[0m \u001b[38;5;124m)\u001b[39m\n\u001b[0;32m     13\u001b[0m \u001b[38;5;124m\"\"\"\u001b[39m\n\u001b[1;32m---> 14\u001b[0m cursor\u001b[38;5;241m.\u001b[39mexecute(query)\n\u001b[0;32m     15\u001b[0m cursor\u001b[38;5;241m.\u001b[39mclose()\n",
      "File \u001b[1;32m~\\anaconda3\\Lib\\site-packages\\mysql\\connector\\cursor_cext.py:357\u001b[0m, in \u001b[0;36mCMySQLCursor.execute\u001b[1;34m(self, operation, params, multi)\u001b[0m\n\u001b[0;32m    352\u001b[0m             \u001b[38;5;28;01mraise\u001b[39;00m ProgrammingError(\n\u001b[0;32m    353\u001b[0m                 \u001b[38;5;124m\"\u001b[39m\u001b[38;5;124mNot all parameters were used in the SQL statement\u001b[39m\u001b[38;5;124m\"\u001b[39m\n\u001b[0;32m    354\u001b[0m             )\n\u001b[0;32m    356\u001b[0m \u001b[38;5;28;01mtry\u001b[39;00m:\n\u001b[1;32m--> 357\u001b[0m     result \u001b[38;5;241m=\u001b[39m \u001b[38;5;28mself\u001b[39m\u001b[38;5;241m.\u001b[39m_connection\u001b[38;5;241m.\u001b[39mcmd_query(\n\u001b[0;32m    358\u001b[0m         stmt,\n\u001b[0;32m    359\u001b[0m         raw\u001b[38;5;241m=\u001b[39m\u001b[38;5;28mself\u001b[39m\u001b[38;5;241m.\u001b[39m_raw,\n\u001b[0;32m    360\u001b[0m         buffered\u001b[38;5;241m=\u001b[39m\u001b[38;5;28mself\u001b[39m\u001b[38;5;241m.\u001b[39m_buffered,\n\u001b[0;32m    361\u001b[0m         raw_as_string\u001b[38;5;241m=\u001b[39m\u001b[38;5;28mself\u001b[39m\u001b[38;5;241m.\u001b[39m_raw_as_string,\n\u001b[0;32m    362\u001b[0m     )\n\u001b[0;32m    363\u001b[0m \u001b[38;5;28;01mexcept\u001b[39;00m MySQLInterfaceError \u001b[38;5;28;01mas\u001b[39;00m err:\n\u001b[0;32m    364\u001b[0m     \u001b[38;5;28;01mraise\u001b[39;00m get_mysql_exception(\n\u001b[0;32m    365\u001b[0m         msg\u001b[38;5;241m=\u001b[39merr\u001b[38;5;241m.\u001b[39mmsg, errno\u001b[38;5;241m=\u001b[39merr\u001b[38;5;241m.\u001b[39merrno, sqlstate\u001b[38;5;241m=\u001b[39merr\u001b[38;5;241m.\u001b[39msqlstate\n\u001b[0;32m    366\u001b[0m     ) \u001b[38;5;28;01mfrom\u001b[39;00m \u001b[38;5;21;01merr\u001b[39;00m\n",
      "File \u001b[1;32m~\\anaconda3\\Lib\\site-packages\\mysql\\connector\\opentelemetry\\context_propagation.py:97\u001b[0m, in \u001b[0;36mwith_context_propagation.<locals>.wrapper\u001b[1;34m(cnx, *args, **kwargs)\u001b[0m\n\u001b[0;32m     95\u001b[0m \u001b[38;5;66;03m# pylint: disable=possibly-used-before-assignment\u001b[39;00m\n\u001b[0;32m     96\u001b[0m \u001b[38;5;28;01mif\u001b[39;00m \u001b[38;5;129;01mnot\u001b[39;00m OTEL_ENABLED \u001b[38;5;129;01mor\u001b[39;00m \u001b[38;5;129;01mnot\u001b[39;00m cnx\u001b[38;5;241m.\u001b[39motel_context_propagation:\n\u001b[1;32m---> 97\u001b[0m     \u001b[38;5;28;01mreturn\u001b[39;00m method(cnx, \u001b[38;5;241m*\u001b[39margs, \u001b[38;5;241m*\u001b[39m\u001b[38;5;241m*\u001b[39mkwargs)\n\u001b[0;32m     99\u001b[0m current_span \u001b[38;5;241m=\u001b[39m trace\u001b[38;5;241m.\u001b[39mget_current_span()\n\u001b[0;32m    100\u001b[0m tp_header \u001b[38;5;241m=\u001b[39m \u001b[38;5;28;01mNone\u001b[39;00m\n",
      "File \u001b[1;32m~\\anaconda3\\Lib\\site-packages\\mysql\\connector\\connection_cext.py:713\u001b[0m, in \u001b[0;36mCMySQLConnection.cmd_query\u001b[1;34m(self, query, raw, buffered, raw_as_string)\u001b[0m\n\u001b[0;32m    705\u001b[0m     \u001b[38;5;28mself\u001b[39m\u001b[38;5;241m.\u001b[39m_cmysql\u001b[38;5;241m.\u001b[39mquery(\n\u001b[0;32m    706\u001b[0m         query,\n\u001b[0;32m    707\u001b[0m         raw\u001b[38;5;241m=\u001b[39mraw,\n\u001b[1;32m   (...)\u001b[0m\n\u001b[0;32m    710\u001b[0m         query_attrs\u001b[38;5;241m=\u001b[39m\u001b[38;5;28mself\u001b[39m\u001b[38;5;241m.\u001b[39mquery_attrs,\n\u001b[0;32m    711\u001b[0m     )\n\u001b[0;32m    712\u001b[0m \u001b[38;5;28;01mexcept\u001b[39;00m MySQLInterfaceError \u001b[38;5;28;01mas\u001b[39;00m err:\n\u001b[1;32m--> 713\u001b[0m     \u001b[38;5;28;01mraise\u001b[39;00m get_mysql_exception(\n\u001b[0;32m    714\u001b[0m         err\u001b[38;5;241m.\u001b[39merrno, msg\u001b[38;5;241m=\u001b[39merr\u001b[38;5;241m.\u001b[39mmsg, sqlstate\u001b[38;5;241m=\u001b[39merr\u001b[38;5;241m.\u001b[39msqlstate\n\u001b[0;32m    715\u001b[0m     ) \u001b[38;5;28;01mfrom\u001b[39;00m \u001b[38;5;21;01merr\u001b[39;00m\n\u001b[0;32m    716\u001b[0m \u001b[38;5;28;01mexcept\u001b[39;00m \u001b[38;5;167;01mAttributeError\u001b[39;00m \u001b[38;5;28;01mas\u001b[39;00m err:\n\u001b[0;32m    717\u001b[0m     addr \u001b[38;5;241m=\u001b[39m (\n\u001b[0;32m    718\u001b[0m         \u001b[38;5;28mself\u001b[39m\u001b[38;5;241m.\u001b[39m_unix_socket \u001b[38;5;28;01mif\u001b[39;00m \u001b[38;5;28mself\u001b[39m\u001b[38;5;241m.\u001b[39m_unix_socket \u001b[38;5;28;01melse\u001b[39;00m \u001b[38;5;124mf\u001b[39m\u001b[38;5;124m\"\u001b[39m\u001b[38;5;132;01m{\u001b[39;00m\u001b[38;5;28mself\u001b[39m\u001b[38;5;241m.\u001b[39m_host\u001b[38;5;132;01m}\u001b[39;00m\u001b[38;5;124m:\u001b[39m\u001b[38;5;132;01m{\u001b[39;00m\u001b[38;5;28mself\u001b[39m\u001b[38;5;241m.\u001b[39m_port\u001b[38;5;132;01m}\u001b[39;00m\u001b[38;5;124m\"\u001b[39m\n\u001b[0;32m    719\u001b[0m     )\n",
      "\u001b[1;31mProgrammingError\u001b[0m: 1064 (42000): You have an error in your SQL syntax; check the manual that corresponds to your MySQL server version for the right syntax to use near ')' at line 8"
     ]
    }
   ],
   "source": [
    "db_config['database'] = 'movie'\n",
    "conn = mysql.connector.connect(**db_config)\n",
    "cursor = conn.cursor()\n",
    "query = \"\"\"\n",
    "CREATE TABLE IF NOT EXISTS movie (\n",
    "    id INT AUTO_INCREMENT PRIMARY KEY,\n",
    "    Movie_ID int,\n",
    "    Title VARCHAR(100),\n",
    "    Year year,\n",
    "    Rating float,\n",
    "    Number_of_Ratings float,\n",
    ")\n",
    "\"\"\"\n",
    "cursor.execute(query)\n",
    "cursor.close()\n"
   ]
  },
  {
   "cell_type": "code",
   "execution_count": 30,
   "id": "1102bd65-1bbf-49fd-bf14-2d2d9eeb4d8e",
   "metadata": {},
   "outputs": [
    {
     "name": "stdout",
     "output_type": "stream",
     "text": [
      "Data imported successfully!\n"
     ]
    }
   ],
   "source": [
    "engine = create_engine(f\"mysql+mysqlconnector://{db_config['user']}:{db_config['password']}@{db_config['host']}/{db_config['database']}\")\n",
    "movies.to_sql('movie', con=engine, if_exists='replace', index=False)\n",
    "print(\"Data imported successfully!\")\n",
    "conn.close()\n"
   ]
  },
  {
   "cell_type": "code",
   "execution_count": null,
   "id": "3b1eb46e-555d-4c32-9bff-9cab2806a326",
   "metadata": {},
   "outputs": [],
   "source": []
  }
 ],
 "metadata": {
  "kernelspec": {
   "display_name": "Python 3 (ipykernel)",
   "language": "python",
   "name": "python3"
  },
  "language_info": {
   "codemirror_mode": {
    "name": "ipython",
    "version": 3
   },
   "file_extension": ".py",
   "mimetype": "text/x-python",
   "name": "python",
   "nbconvert_exporter": "python",
   "pygments_lexer": "ipython3",
   "version": "3.11.7"
  }
 },
 "nbformat": 4,
 "nbformat_minor": 5
}
